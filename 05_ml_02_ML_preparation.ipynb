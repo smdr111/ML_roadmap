{
  "cells": [
    {
      "cell_type": "markdown",
      "metadata": {
        "id": "view-in-github",
        "colab_type": "text"
      },
      "source": [
        "<a href=\"https://colab.research.google.com/github/smdr111/ML_roadmap/blob/main/05_ml_02_ML_preparation.ipynb\" target=\"_parent\"><img src=\"https://colab.research.google.com/assets/colab-badge.svg\" alt=\"Open In Colab\"/></a>"
      ]
    },
    {
      "cell_type": "markdown",
      "id": "585055c5-9da3-4948-9bbc-73bf1908c080",
      "metadata": {
        "id": "585055c5-9da3-4948-9bbc-73bf1908c080"
      },
      "source": [
        "![Imgur](https://i.imgur.com/5pXzCIu.png)\n",
        "\n",
        "# Data Science va Sun'iy Intellekt Praktikum\n",
        "\n",
        "## 5-MODUL. Machine Learning\n",
        "\n",
        "### 5.1 - ML loyiha qadamlari\n",
        "\n",
        "## Ma`lumotlarni ML uchun tayyolrash\n",
        "\n",
        "<img src=\"https://i.imgur.com/dzZnnYi.png\" alt=\"CRISP-DM\" width=\"800\"/>"
      ]
    },
    {
      "cell_type": "markdown",
      "id": "28ef3cca-d9d4-4473-9ebd-7086a76f6d83",
      "metadata": {
        "id": "28ef3cca-d9d4-4473-9ebd-7086a76f6d83"
      },
      "source": [
        "## 3-QADAM. Ma'lumotlarni Machine Learning uchun tayyorlash\n",
        "Keyingi katta qadam ma'lumotlarni ML uchun tayyorlash. Avvalgi qadamlarda biz ma'lumotlarga to'g'ridan-to'g'ri ishlov berib, ularni tahlil qildik. O'zimiz uchun ba'zi kerakli xulosalarni oldik. Qaysidur ustunlardagi qiymatlarni o'zgartirtish, yangi ustunlar yaratish kabi ishlarni rejalashtirib oldik. Umuman olganda, ma'lumotlarg bo'lgan talabni shakllantridik. Navbat shu talablar asosida ma'lumotlarni tayyorlash.\n",
        "\n",
        "Buning uchun endi biz ma'lumotlar bilan to'g'ridan-to'g'ri emas, funksiyalar orqali ishlaymiz. Ya'ni, avvalgi qismda bajargan barcha jarayonlarnbi funksiyalar yordamida avtomatlashtiramiz.\n",
        "Bunday qilishimizdan maqsad esa, kelajakda yangi ma'lumotlarga ishlov berishda tayyor funksiyani ishga tushirish orqali ma'lumotlarni bittada bizga kerak ko'rinishga keltirib olamiz."
      ]
    },
    {
      "cell_type": "code",
      "execution_count": null,
      "id": "42e8767f-b196-4dba-bd14-10bd35890260",
      "metadata": {
        "id": "42e8767f-b196-4dba-bd14-10bd35890260"
      },
      "outputs": [],
      "source": [
        "import pandas as pd\n",
        "import numpy as np\n",
        "import sklearn # scikit-learn kutubxonasi"
      ]
    },
    {
      "cell_type": "markdown",
      "id": "91ffeed4-81a4-426e-a384-3581ba0914cb",
      "metadata": {
        "id": "91ffeed4-81a4-426e-a384-3581ba0914cb"
      },
      "source": [
        "Boshlanishiga, datasetni qayta yuklaymiz."
      ]
    },
    {
      "cell_type": "code",
      "execution_count": null,
      "id": "fb8dec0c-f171-4526-83b3-01fa23239220",
      "metadata": {
        "id": "fb8dec0c-f171-4526-83b3-01fa23239220",
        "outputId": "82de38e1-a6c1-4c92-b82a-86137ab34ccb"
      },
      "outputs": [
        {
          "data": {
            "text/html": [
              "<div>\n",
              "<style scoped>\n",
              "    .dataframe tbody tr th:only-of-type {\n",
              "        vertical-align: middle;\n",
              "    }\n",
              "\n",
              "    .dataframe tbody tr th {\n",
              "        vertical-align: top;\n",
              "    }\n",
              "\n",
              "    .dataframe thead th {\n",
              "        text-align: right;\n",
              "    }\n",
              "</style>\n",
              "<table border=\"1\" class=\"dataframe\">\n",
              "  <thead>\n",
              "    <tr style=\"text-align: right;\">\n",
              "      <th></th>\n",
              "      <th>longitude</th>\n",
              "      <th>latitude</th>\n",
              "      <th>housing_median_age</th>\n",
              "      <th>total_rooms</th>\n",
              "      <th>total_bedrooms</th>\n",
              "      <th>population</th>\n",
              "      <th>households</th>\n",
              "      <th>median_income</th>\n",
              "      <th>median_house_value</th>\n",
              "      <th>ocean_proximity</th>\n",
              "    </tr>\n",
              "  </thead>\n",
              "  <tbody>\n",
              "    <tr>\n",
              "      <th>0</th>\n",
              "      <td>-122.23</td>\n",
              "      <td>37.88</td>\n",
              "      <td>41.0</td>\n",
              "      <td>880.0</td>\n",
              "      <td>129.0</td>\n",
              "      <td>322.0</td>\n",
              "      <td>126.0</td>\n",
              "      <td>8.3252</td>\n",
              "      <td>452600.0</td>\n",
              "      <td>NEAR BAY</td>\n",
              "    </tr>\n",
              "    <tr>\n",
              "      <th>1</th>\n",
              "      <td>-122.22</td>\n",
              "      <td>37.86</td>\n",
              "      <td>21.0</td>\n",
              "      <td>7099.0</td>\n",
              "      <td>1106.0</td>\n",
              "      <td>2401.0</td>\n",
              "      <td>1138.0</td>\n",
              "      <td>8.3014</td>\n",
              "      <td>358500.0</td>\n",
              "      <td>NEAR BAY</td>\n",
              "    </tr>\n",
              "    <tr>\n",
              "      <th>2</th>\n",
              "      <td>-122.24</td>\n",
              "      <td>37.85</td>\n",
              "      <td>52.0</td>\n",
              "      <td>1467.0</td>\n",
              "      <td>190.0</td>\n",
              "      <td>496.0</td>\n",
              "      <td>177.0</td>\n",
              "      <td>7.2574</td>\n",
              "      <td>352100.0</td>\n",
              "      <td>NEAR BAY</td>\n",
              "    </tr>\n",
              "    <tr>\n",
              "      <th>3</th>\n",
              "      <td>-122.25</td>\n",
              "      <td>37.85</td>\n",
              "      <td>52.0</td>\n",
              "      <td>1274.0</td>\n",
              "      <td>235.0</td>\n",
              "      <td>558.0</td>\n",
              "      <td>219.0</td>\n",
              "      <td>5.6431</td>\n",
              "      <td>341300.0</td>\n",
              "      <td>NEAR BAY</td>\n",
              "    </tr>\n",
              "    <tr>\n",
              "      <th>4</th>\n",
              "      <td>-122.25</td>\n",
              "      <td>37.85</td>\n",
              "      <td>52.0</td>\n",
              "      <td>1627.0</td>\n",
              "      <td>280.0</td>\n",
              "      <td>565.0</td>\n",
              "      <td>259.0</td>\n",
              "      <td>3.8462</td>\n",
              "      <td>342200.0</td>\n",
              "      <td>NEAR BAY</td>\n",
              "    </tr>\n",
              "  </tbody>\n",
              "</table>\n",
              "</div>"
            ],
            "text/plain": [
              "   longitude  latitude  housing_median_age  total_rooms  total_bedrooms  \\\n",
              "0    -122.23     37.88                41.0        880.0           129.0   \n",
              "1    -122.22     37.86                21.0       7099.0          1106.0   \n",
              "2    -122.24     37.85                52.0       1467.0           190.0   \n",
              "3    -122.25     37.85                52.0       1274.0           235.0   \n",
              "4    -122.25     37.85                52.0       1627.0           280.0   \n",
              "\n",
              "   population  households  median_income  median_house_value ocean_proximity  \n",
              "0       322.0       126.0         8.3252            452600.0        NEAR BAY  \n",
              "1      2401.0      1138.0         8.3014            358500.0        NEAR BAY  \n",
              "2       496.0       177.0         7.2574            352100.0        NEAR BAY  \n",
              "3       558.0       219.0         5.6431            341300.0        NEAR BAY  \n",
              "4       565.0       259.0         3.8462            342200.0        NEAR BAY  "
            ]
          },
          "execution_count": 2,
          "metadata": {},
          "output_type": "execute_result"
        }
      ],
      "source": [
        "# Onlayn dataset joylashgan manzilini ko'rsatamiaz\n",
        "URL = \"https://github.com/ageron/handson-ml2/blob/master/datasets/housing/housing.csv?raw=true\"\n",
        "df = pd.read_csv(URL)\n",
        "df.head()"
      ]
    },
    {
      "cell_type": "markdown",
      "id": "093d3b53-9e0c-42f7-b92b-a7cef42226d2",
      "metadata": {
        "id": "093d3b53-9e0c-42f7-b92b-a7cef42226d2"
      },
      "source": [
        "Ma'lumotlarni train va test setga ajratamiz.\n",
        "1. Oddiy (muvozanatsiz) train/test set"
      ]
    },
    {
      "cell_type": "code",
      "execution_count": null,
      "id": "0b22942a-f344-4a24-a9c8-531a58e07f9c",
      "metadata": {
        "id": "0b22942a-f344-4a24-a9c8-531a58e07f9c"
      },
      "outputs": [],
      "source": [
        "from sklearn.model_selection import train_test_split\n",
        "train_set, test_set = train_test_split(df, test_size=0.2, random_state=42)"
      ]
    },
    {
      "cell_type": "markdown",
      "id": "b36b6caf-f14d-4643-8b1c-59a3ab5c7619",
      "metadata": {
        "id": "b36b6caf-f14d-4643-8b1c-59a3ab5c7619"
      },
      "source": [
        "2. Muvozanatli (Stratified) train/test set"
      ]
    },
    {
      "cell_type": "code",
      "execution_count": null,
      "id": "b245a097-2c9f-4d23-83b3-c537b992e111",
      "metadata": {
        "id": "b245a097-2c9f-4d23-83b3-c537b992e111"
      },
      "outputs": [],
      "source": [
        "df['income_cat'] = pd.cut(df['median_income'], bins=[0., 1.5, 3.0, 4.5, 6.0, np.inf], labels=[1,2,3,4,5])\n",
        "\n",
        "from sklearn.model_selection import StratifiedShuffleSplit\n",
        "stratified_split = StratifiedShuffleSplit(n_splits=1, test_size=0.2, random_state=42)\n",
        "# stratified_split.split funksiyasi indekslar qaytaradi\n",
        "for train_index, test_index in stratified_split.split(df,df['income_cat']):\n",
        "    strat_train_set = df.loc[train_index]\n",
        "    strat_test_set = df.loc[test_index]\n",
        "\n",
        "strat_train_set.drop('income_cat', axis=1, inplace=True)\n",
        "strat_test_set.drop('income_cat', axis=1, inplace=True)"
      ]
    },
    {
      "cell_type": "markdown",
      "id": "c2b45938-7c36-4018-bd57-80f8da77c7b6",
      "metadata": {
        "id": "c2b45938-7c36-4018-bd57-80f8da77c7b6"
      },
      "source": [
        "3. Ishlash uchun muvozanatli setlarni tanlaymiz.\n",
        "\n",
        "Bu safar `label` (basorat qilishimiz kerak bo'lgan) ustun `median_house_value` ni ham alohida ajratamiz.\n",
        "Bunga sabab, qolgan ustunlarga qo'llangan o'zgarishlarni labelga ham qo'llamaslik."
      ]
    },
    {
      "cell_type": "code",
      "execution_count": null,
      "id": "70837814-664f-49c0-9e5a-a244ca1ec964",
      "metadata": {
        "id": "70837814-664f-49c0-9e5a-a244ca1ec964"
      },
      "outputs": [],
      "source": [
        "housing = strat_train_set.drop(\"median_house_value\", axis=1)\n",
        "housing_labels = strat_train_set[\"median_house_value\"].copy()"
      ]
    },
    {
      "cell_type": "markdown",
      "id": "6c4bc266-39ab-4264-9e5b-0b03f29b4c91",
      "metadata": {
        "id": "6c4bc266-39ab-4264-9e5b-0b03f29b4c91"
      },
      "source": [
        "![Imgur](https://i.imgur.com/lO0yL15.png)"
      ]
    },
    {
      "cell_type": "markdown",
      "id": "02876199-84a5-46b2-9383-23f1beb468b1",
      "metadata": {
        "id": "02876199-84a5-46b2-9383-23f1beb468b1"
      },
      "source": [
        "### 3.1 Tozalash"
      ]
    },
    {
      "cell_type": "code",
      "execution_count": null,
      "id": "490f64b4-5d53-47a6-a1e4-fbe1e194e8dd",
      "metadata": {
        "id": "490f64b4-5d53-47a6-a1e4-fbe1e194e8dd",
        "outputId": "31e3c196-d631-416e-d6b4-ef33ec366499"
      },
      "outputs": [
        {
          "name": "stdout",
          "output_type": "stream",
          "text": [
            "<class 'pandas.core.frame.DataFrame'>\n",
            "RangeIndex: 20640 entries, 0 to 20639\n",
            "Data columns (total 11 columns):\n",
            " #   Column              Non-Null Count  Dtype   \n",
            "---  ------              --------------  -----   \n",
            " 0   longitude           20640 non-null  float64 \n",
            " 1   latitude            20640 non-null  float64 \n",
            " 2   housing_median_age  20640 non-null  float64 \n",
            " 3   total_rooms         20640 non-null  float64 \n",
            " 4   total_bedrooms      20433 non-null  float64 \n",
            " 5   population          20640 non-null  float64 \n",
            " 6   households          20640 non-null  float64 \n",
            " 7   median_income       20640 non-null  float64 \n",
            " 8   median_house_value  20640 non-null  float64 \n",
            " 9   ocean_proximity     20640 non-null  object  \n",
            " 10  income_cat          20640 non-null  category\n",
            "dtypes: category(1), float64(9), object(1)\n",
            "memory usage: 1.6+ MB\n"
          ]
        }
      ],
      "source": [
        "df.info()"
      ]
    },
    {
      "cell_type": "markdown",
      "id": "510f881f-223a-4b80-97a4-3795b716d702",
      "metadata": {
        "id": "510f881f-223a-4b80-97a4-3795b716d702"
      },
      "source": [
        "Esingizda bo'lsa, `df.info()` yordamida `total_bedrooms ` ustunida ba'zi qatorlarda qiymatlar yo'q (`NaN`) ekanini aniqlagan edik.\n",
        "\n",
        "Ushbu qatorlar bizga halaqit bermasligi uchun oldimizda 3 ta yo'l bor:\n",
        "1. Qatorlarni (hududlarni) o'chirib tashlash\n",
        "2. Bu ustunni umuman tashlab yuborish\n",
        "3. `NaN` qiymatlarni to'ldirish (`0`, o'rtacha yoki median qiymat bilan)\n",
        "\n",
        "Bulardan qay birini tanlash, loyihadan loyihaga qarab o'zgaradi. Agar birinchi ikki usulni tansalangiz, buning yo'li oson:"
      ]
    },
    {
      "cell_type": "code",
      "execution_count": null,
      "id": "ca6715a6-0109-48d9-8c4a-3696dc53cf30",
      "metadata": {
        "id": "ca6715a6-0109-48d9-8c4a-3696dc53cf30",
        "outputId": "d9801d3f-569c-4809-efd2-5bf74dec5fb2"
      },
      "outputs": [
        {
          "data": {
            "text/html": [
              "<div>\n",
              "<style scoped>\n",
              "    .dataframe tbody tr th:only-of-type {\n",
              "        vertical-align: middle;\n",
              "    }\n",
              "\n",
              "    .dataframe tbody tr th {\n",
              "        vertical-align: top;\n",
              "    }\n",
              "\n",
              "    .dataframe thead th {\n",
              "        text-align: right;\n",
              "    }\n",
              "</style>\n",
              "<table border=\"1\" class=\"dataframe\">\n",
              "  <thead>\n",
              "    <tr style=\"text-align: right;\">\n",
              "      <th></th>\n",
              "      <th>longitude</th>\n",
              "      <th>latitude</th>\n",
              "      <th>housing_median_age</th>\n",
              "      <th>total_rooms</th>\n",
              "      <th>total_bedrooms</th>\n",
              "      <th>population</th>\n",
              "      <th>households</th>\n",
              "      <th>median_income</th>\n",
              "      <th>ocean_proximity</th>\n",
              "    </tr>\n",
              "  </thead>\n",
              "  <tbody>\n",
              "    <tr>\n",
              "      <th>17606</th>\n",
              "      <td>-121.89</td>\n",
              "      <td>37.29</td>\n",
              "      <td>38.0</td>\n",
              "      <td>1568.0</td>\n",
              "      <td>351.0</td>\n",
              "      <td>710.0</td>\n",
              "      <td>339.0</td>\n",
              "      <td>2.7042</td>\n",
              "      <td>&lt;1H OCEAN</td>\n",
              "    </tr>\n",
              "    <tr>\n",
              "      <th>18632</th>\n",
              "      <td>-121.93</td>\n",
              "      <td>37.05</td>\n",
              "      <td>14.0</td>\n",
              "      <td>679.0</td>\n",
              "      <td>108.0</td>\n",
              "      <td>306.0</td>\n",
              "      <td>113.0</td>\n",
              "      <td>6.4214</td>\n",
              "      <td>&lt;1H OCEAN</td>\n",
              "    </tr>\n",
              "    <tr>\n",
              "      <th>14650</th>\n",
              "      <td>-117.20</td>\n",
              "      <td>32.77</td>\n",
              "      <td>31.0</td>\n",
              "      <td>1952.0</td>\n",
              "      <td>471.0</td>\n",
              "      <td>936.0</td>\n",
              "      <td>462.0</td>\n",
              "      <td>2.8621</td>\n",
              "      <td>NEAR OCEAN</td>\n",
              "    </tr>\n",
              "    <tr>\n",
              "      <th>3230</th>\n",
              "      <td>-119.61</td>\n",
              "      <td>36.31</td>\n",
              "      <td>25.0</td>\n",
              "      <td>1847.0</td>\n",
              "      <td>371.0</td>\n",
              "      <td>1460.0</td>\n",
              "      <td>353.0</td>\n",
              "      <td>1.8839</td>\n",
              "      <td>INLAND</td>\n",
              "    </tr>\n",
              "    <tr>\n",
              "      <th>3555</th>\n",
              "      <td>-118.59</td>\n",
              "      <td>34.23</td>\n",
              "      <td>17.0</td>\n",
              "      <td>6592.0</td>\n",
              "      <td>1525.0</td>\n",
              "      <td>4459.0</td>\n",
              "      <td>1463.0</td>\n",
              "      <td>3.0347</td>\n",
              "      <td>&lt;1H OCEAN</td>\n",
              "    </tr>\n",
              "    <tr>\n",
              "      <th>...</th>\n",
              "      <td>...</td>\n",
              "      <td>...</td>\n",
              "      <td>...</td>\n",
              "      <td>...</td>\n",
              "      <td>...</td>\n",
              "      <td>...</td>\n",
              "      <td>...</td>\n",
              "      <td>...</td>\n",
              "      <td>...</td>\n",
              "    </tr>\n",
              "    <tr>\n",
              "      <th>6563</th>\n",
              "      <td>-118.13</td>\n",
              "      <td>34.20</td>\n",
              "      <td>46.0</td>\n",
              "      <td>1271.0</td>\n",
              "      <td>236.0</td>\n",
              "      <td>573.0</td>\n",
              "      <td>210.0</td>\n",
              "      <td>4.9312</td>\n",
              "      <td>INLAND</td>\n",
              "    </tr>\n",
              "    <tr>\n",
              "      <th>12053</th>\n",
              "      <td>-117.56</td>\n",
              "      <td>33.88</td>\n",
              "      <td>40.0</td>\n",
              "      <td>1196.0</td>\n",
              "      <td>294.0</td>\n",
              "      <td>1052.0</td>\n",
              "      <td>258.0</td>\n",
              "      <td>2.0682</td>\n",
              "      <td>INLAND</td>\n",
              "    </tr>\n",
              "    <tr>\n",
              "      <th>13908</th>\n",
              "      <td>-116.40</td>\n",
              "      <td>34.09</td>\n",
              "      <td>9.0</td>\n",
              "      <td>4855.0</td>\n",
              "      <td>872.0</td>\n",
              "      <td>2098.0</td>\n",
              "      <td>765.0</td>\n",
              "      <td>3.2723</td>\n",
              "      <td>INLAND</td>\n",
              "    </tr>\n",
              "    <tr>\n",
              "      <th>11159</th>\n",
              "      <td>-118.01</td>\n",
              "      <td>33.82</td>\n",
              "      <td>31.0</td>\n",
              "      <td>1960.0</td>\n",
              "      <td>380.0</td>\n",
              "      <td>1356.0</td>\n",
              "      <td>356.0</td>\n",
              "      <td>4.0625</td>\n",
              "      <td>&lt;1H OCEAN</td>\n",
              "    </tr>\n",
              "    <tr>\n",
              "      <th>15775</th>\n",
              "      <td>-122.45</td>\n",
              "      <td>37.77</td>\n",
              "      <td>52.0</td>\n",
              "      <td>3095.0</td>\n",
              "      <td>682.0</td>\n",
              "      <td>1269.0</td>\n",
              "      <td>639.0</td>\n",
              "      <td>3.5750</td>\n",
              "      <td>NEAR BAY</td>\n",
              "    </tr>\n",
              "  </tbody>\n",
              "</table>\n",
              "<p>16354 rows × 9 columns</p>\n",
              "</div>"
            ],
            "text/plain": [
              "       longitude  latitude  housing_median_age  total_rooms  total_bedrooms  \\\n",
              "17606    -121.89     37.29                38.0       1568.0           351.0   \n",
              "18632    -121.93     37.05                14.0        679.0           108.0   \n",
              "14650    -117.20     32.77                31.0       1952.0           471.0   \n",
              "3230     -119.61     36.31                25.0       1847.0           371.0   \n",
              "3555     -118.59     34.23                17.0       6592.0          1525.0   \n",
              "...          ...       ...                 ...          ...             ...   \n",
              "6563     -118.13     34.20                46.0       1271.0           236.0   \n",
              "12053    -117.56     33.88                40.0       1196.0           294.0   \n",
              "13908    -116.40     34.09                 9.0       4855.0           872.0   \n",
              "11159    -118.01     33.82                31.0       1960.0           380.0   \n",
              "15775    -122.45     37.77                52.0       3095.0           682.0   \n",
              "\n",
              "       population  households  median_income ocean_proximity  \n",
              "17606       710.0       339.0         2.7042       <1H OCEAN  \n",
              "18632       306.0       113.0         6.4214       <1H OCEAN  \n",
              "14650       936.0       462.0         2.8621      NEAR OCEAN  \n",
              "3230       1460.0       353.0         1.8839          INLAND  \n",
              "3555       4459.0      1463.0         3.0347       <1H OCEAN  \n",
              "...           ...         ...            ...             ...  \n",
              "6563        573.0       210.0         4.9312          INLAND  \n",
              "12053      1052.0       258.0         2.0682          INLAND  \n",
              "13908      2098.0       765.0         3.2723          INLAND  \n",
              "11159      1356.0       356.0         4.0625       <1H OCEAN  \n",
              "15775      1269.0       639.0         3.5750        NEAR BAY  \n",
              "\n",
              "[16354 rows x 9 columns]"
            ]
          },
          "execution_count": 10,
          "metadata": {},
          "output_type": "execute_result"
        }
      ],
      "source": [
        "# 1-variant. Qatorlarni tashlab yuborish\n",
        "housing.dropna(subset=['total_bedrooms']) # inplace=True qilishni unutmang"
      ]
    },
    {
      "cell_type": "code",
      "execution_count": null,
      "id": "8d25ba6f-4821-4990-8348-98d9486d48c0",
      "metadata": {
        "id": "8d25ba6f-4821-4990-8348-98d9486d48c0",
        "outputId": "e1372cfa-1027-4c2d-9941-314c61d11bc9"
      },
      "outputs": [
        {
          "data": {
            "text/html": [
              "<div>\n",
              "<style scoped>\n",
              "    .dataframe tbody tr th:only-of-type {\n",
              "        vertical-align: middle;\n",
              "    }\n",
              "\n",
              "    .dataframe tbody tr th {\n",
              "        vertical-align: top;\n",
              "    }\n",
              "\n",
              "    .dataframe thead th {\n",
              "        text-align: right;\n",
              "    }\n",
              "</style>\n",
              "<table border=\"1\" class=\"dataframe\">\n",
              "  <thead>\n",
              "    <tr style=\"text-align: right;\">\n",
              "      <th></th>\n",
              "      <th>longitude</th>\n",
              "      <th>latitude</th>\n",
              "      <th>housing_median_age</th>\n",
              "      <th>total_rooms</th>\n",
              "      <th>population</th>\n",
              "      <th>households</th>\n",
              "      <th>median_income</th>\n",
              "      <th>ocean_proximity</th>\n",
              "    </tr>\n",
              "  </thead>\n",
              "  <tbody>\n",
              "    <tr>\n",
              "      <th>17606</th>\n",
              "      <td>-121.89</td>\n",
              "      <td>37.29</td>\n",
              "      <td>38.0</td>\n",
              "      <td>1568.0</td>\n",
              "      <td>710.0</td>\n",
              "      <td>339.0</td>\n",
              "      <td>2.7042</td>\n",
              "      <td>&lt;1H OCEAN</td>\n",
              "    </tr>\n",
              "    <tr>\n",
              "      <th>18632</th>\n",
              "      <td>-121.93</td>\n",
              "      <td>37.05</td>\n",
              "      <td>14.0</td>\n",
              "      <td>679.0</td>\n",
              "      <td>306.0</td>\n",
              "      <td>113.0</td>\n",
              "      <td>6.4214</td>\n",
              "      <td>&lt;1H OCEAN</td>\n",
              "    </tr>\n",
              "    <tr>\n",
              "      <th>14650</th>\n",
              "      <td>-117.20</td>\n",
              "      <td>32.77</td>\n",
              "      <td>31.0</td>\n",
              "      <td>1952.0</td>\n",
              "      <td>936.0</td>\n",
              "      <td>462.0</td>\n",
              "      <td>2.8621</td>\n",
              "      <td>NEAR OCEAN</td>\n",
              "    </tr>\n",
              "    <tr>\n",
              "      <th>3230</th>\n",
              "      <td>-119.61</td>\n",
              "      <td>36.31</td>\n",
              "      <td>25.0</td>\n",
              "      <td>1847.0</td>\n",
              "      <td>1460.0</td>\n",
              "      <td>353.0</td>\n",
              "      <td>1.8839</td>\n",
              "      <td>INLAND</td>\n",
              "    </tr>\n",
              "    <tr>\n",
              "      <th>3555</th>\n",
              "      <td>-118.59</td>\n",
              "      <td>34.23</td>\n",
              "      <td>17.0</td>\n",
              "      <td>6592.0</td>\n",
              "      <td>4459.0</td>\n",
              "      <td>1463.0</td>\n",
              "      <td>3.0347</td>\n",
              "      <td>&lt;1H OCEAN</td>\n",
              "    </tr>\n",
              "    <tr>\n",
              "      <th>...</th>\n",
              "      <td>...</td>\n",
              "      <td>...</td>\n",
              "      <td>...</td>\n",
              "      <td>...</td>\n",
              "      <td>...</td>\n",
              "      <td>...</td>\n",
              "      <td>...</td>\n",
              "      <td>...</td>\n",
              "    </tr>\n",
              "    <tr>\n",
              "      <th>6563</th>\n",
              "      <td>-118.13</td>\n",
              "      <td>34.20</td>\n",
              "      <td>46.0</td>\n",
              "      <td>1271.0</td>\n",
              "      <td>573.0</td>\n",
              "      <td>210.0</td>\n",
              "      <td>4.9312</td>\n",
              "      <td>INLAND</td>\n",
              "    </tr>\n",
              "    <tr>\n",
              "      <th>12053</th>\n",
              "      <td>-117.56</td>\n",
              "      <td>33.88</td>\n",
              "      <td>40.0</td>\n",
              "      <td>1196.0</td>\n",
              "      <td>1052.0</td>\n",
              "      <td>258.0</td>\n",
              "      <td>2.0682</td>\n",
              "      <td>INLAND</td>\n",
              "    </tr>\n",
              "    <tr>\n",
              "      <th>13908</th>\n",
              "      <td>-116.40</td>\n",
              "      <td>34.09</td>\n",
              "      <td>9.0</td>\n",
              "      <td>4855.0</td>\n",
              "      <td>2098.0</td>\n",
              "      <td>765.0</td>\n",
              "      <td>3.2723</td>\n",
              "      <td>INLAND</td>\n",
              "    </tr>\n",
              "    <tr>\n",
              "      <th>11159</th>\n",
              "      <td>-118.01</td>\n",
              "      <td>33.82</td>\n",
              "      <td>31.0</td>\n",
              "      <td>1960.0</td>\n",
              "      <td>1356.0</td>\n",
              "      <td>356.0</td>\n",
              "      <td>4.0625</td>\n",
              "      <td>&lt;1H OCEAN</td>\n",
              "    </tr>\n",
              "    <tr>\n",
              "      <th>15775</th>\n",
              "      <td>-122.45</td>\n",
              "      <td>37.77</td>\n",
              "      <td>52.0</td>\n",
              "      <td>3095.0</td>\n",
              "      <td>1269.0</td>\n",
              "      <td>639.0</td>\n",
              "      <td>3.5750</td>\n",
              "      <td>NEAR BAY</td>\n",
              "    </tr>\n",
              "  </tbody>\n",
              "</table>\n",
              "<p>16512 rows × 8 columns</p>\n",
              "</div>"
            ],
            "text/plain": [
              "       longitude  latitude  housing_median_age  total_rooms  population  \\\n",
              "17606    -121.89     37.29                38.0       1568.0       710.0   \n",
              "18632    -121.93     37.05                14.0        679.0       306.0   \n",
              "14650    -117.20     32.77                31.0       1952.0       936.0   \n",
              "3230     -119.61     36.31                25.0       1847.0      1460.0   \n",
              "3555     -118.59     34.23                17.0       6592.0      4459.0   \n",
              "...          ...       ...                 ...          ...         ...   \n",
              "6563     -118.13     34.20                46.0       1271.0       573.0   \n",
              "12053    -117.56     33.88                40.0       1196.0      1052.0   \n",
              "13908    -116.40     34.09                 9.0       4855.0      2098.0   \n",
              "11159    -118.01     33.82                31.0       1960.0      1356.0   \n",
              "15775    -122.45     37.77                52.0       3095.0      1269.0   \n",
              "\n",
              "       households  median_income ocean_proximity  \n",
              "17606       339.0         2.7042       <1H OCEAN  \n",
              "18632       113.0         6.4214       <1H OCEAN  \n",
              "14650       462.0         2.8621      NEAR OCEAN  \n",
              "3230        353.0         1.8839          INLAND  \n",
              "3555       1463.0         3.0347       <1H OCEAN  \n",
              "...           ...            ...             ...  \n",
              "6563        210.0         4.9312          INLAND  \n",
              "12053       258.0         2.0682          INLAND  \n",
              "13908       765.0         3.2723          INLAND  \n",
              "11159       356.0         4.0625       <1H OCEAN  \n",
              "15775       639.0         3.5750        NEAR BAY  \n",
              "\n",
              "[16512 rows x 8 columns]"
            ]
          },
          "execution_count": 11,
          "metadata": {},
          "output_type": "execute_result"
        }
      ],
      "source": [
        "# 2-variant. Ustunni tashlab yuborish\n",
        "housing.drop(\"total_bedrooms\", axis=1) # inplace=True qilishni unutmang"
      ]
    },
    {
      "cell_type": "code",
      "execution_count": null,
      "id": "6456894d-a72e-42d8-8620-fa816c16f59f",
      "metadata": {
        "id": "6456894d-a72e-42d8-8620-fa816c16f59f",
        "outputId": "9f441324-ca58-484c-95da-c936de4a1f81"
      },
      "outputs": [
        {
          "data": {
            "text/plain": [
              "17606     351.0\n",
              "18632     108.0\n",
              "14650     471.0\n",
              "3230      371.0\n",
              "3555     1525.0\n",
              "          ...  \n",
              "6563      236.0\n",
              "12053     294.0\n",
              "13908     872.0\n",
              "11159     380.0\n",
              "15775     682.0\n",
              "Name: total_bedrooms, Length: 16512, dtype: float64"
            ]
          },
          "execution_count": 12,
          "metadata": {},
          "output_type": "execute_result"
        }
      ],
      "source": [
        "# 3-variant. Median qiymat bilan to'ldirish\n",
        "median = housing[\"total_bedrooms\"].median()\n",
        "housing[\"total_bedrooms\"].fillna(median) # inplace=True qilishni unutmang"
      ]
    },
    {
      "cell_type": "markdown",
      "id": "2cec467c-e168-4777-a9b8-2b4ec7b4706b",
      "metadata": {
        "id": "2cec467c-e168-4777-a9b8-2b4ec7b4706b"
      },
      "source": [
        "Biz 3-variantni tanlaymiz va buni biroz takomillashtiramiz.\n",
        "\n",
        "Gap shundaki, bu safar bizga kelgan datasetda `total_bedrooms` ustunida `NaN` qiymatlar bor edi, lekin kelgusida yangi ma'lumotlar kelganda, boshqa, deylik `population` ustunida `NaN` qiymatlar bo'lishi mumkin. Biz yuqorida ma'lumotlarga ishlov berishni avtomatlashtirish haqida gapirdik, demak bizning funksiyamiz, har qanday ustundagi `NaN` qiymatlarni to'ldirib ketishi kerak.\n",
        "\n",
        "Buning uchun `sklearn` tarkibida maxsus `SimpleImputer` funksiyasi mavjud."
      ]
    },
    {
      "cell_type": "code",
      "execution_count": null,
      "id": "444d3839-9a45-46b8-a514-9bed69793bd3",
      "metadata": {
        "id": "444d3839-9a45-46b8-a514-9bed69793bd3"
      },
      "outputs": [],
      "source": [
        "# SimpleImputer klassini chaqiramiz\n",
        "from sklearn.impute import SimpleImputer\n",
        "# SimpleImputer klassidan yangi obyekt yaratamiz va NaN qiymatlarni median qiymat bilan to'ldirishni ko'rsatamiz\n",
        "imputer = SimpleImputer(strategy=\"median\")"
      ]
    },
    {
      "cell_type": "markdown",
      "id": "5d28e088-f33d-4556-89c3-88494acddc05",
      "metadata": {
        "id": "5d28e088-f33d-4556-89c3-88494acddc05"
      },
      "source": [
        "Dataset uchun median qiymatni hisoblash uchun `imputer` obyekti ichidagi `.fit()` metodiga murojaat qilamiz.\n",
        "Dataset ustunlariga e'tibor bersak, oxirgi `ocean_proximity` ustuni sonli emas. `imputer` esa faqatgina sonli qiymatlar bilan ishlaydi (sonsiz qiymatlarnini o'rta qiymati mavjud emas)."
      ]
    },
    {
      "cell_type": "code",
      "execution_count": null,
      "id": "985ef424-ff39-4dc8-88ea-26dd4227d7f6",
      "metadata": {
        "id": "985ef424-ff39-4dc8-88ea-26dd4227d7f6",
        "outputId": "619e31ae-be31-4dbf-efad-b615b70094c3"
      },
      "outputs": [
        {
          "ename": "ValueError",
          "evalue": "Cannot use median strategy with non-numeric data:\ncould not convert string to float: '<1H OCEAN'",
          "output_type": "error",
          "traceback": [
            "\u001b[1;31m---------------------------------------------------------------------------\u001b[0m",
            "\u001b[1;31mValueError\u001b[0m                                Traceback (most recent call last)",
            "\u001b[1;32m<ipython-input-15-48e4448c63e8>\u001b[0m in \u001b[0;36m<module>\u001b[1;34m\u001b[0m\n\u001b[1;32m----> 1\u001b[1;33m \u001b[0mimputer\u001b[0m\u001b[1;33m.\u001b[0m\u001b[0mfit\u001b[0m\u001b[1;33m(\u001b[0m\u001b[0mhousing\u001b[0m\u001b[1;33m)\u001b[0m\u001b[1;33m\u001b[0m\u001b[1;33m\u001b[0m\u001b[0m\n\u001b[0m",
            "\u001b[1;32m~\\Anaconda3\\lib\\site-packages\\sklearn\\impute\\_base.py\u001b[0m in \u001b[0;36mfit\u001b[1;34m(self, X, y)\u001b[0m\n\u001b[0;32m    275\u001b[0m         \u001b[0mself\u001b[0m \u001b[1;33m:\u001b[0m \u001b[0mSimpleImputer\u001b[0m\u001b[1;33m\u001b[0m\u001b[1;33m\u001b[0m\u001b[0m\n\u001b[0;32m    276\u001b[0m         \"\"\"\n\u001b[1;32m--> 277\u001b[1;33m         \u001b[0mX\u001b[0m \u001b[1;33m=\u001b[0m \u001b[0mself\u001b[0m\u001b[1;33m.\u001b[0m\u001b[0m_validate_input\u001b[0m\u001b[1;33m(\u001b[0m\u001b[0mX\u001b[0m\u001b[1;33m,\u001b[0m \u001b[0min_fit\u001b[0m\u001b[1;33m=\u001b[0m\u001b[1;32mTrue\u001b[0m\u001b[1;33m)\u001b[0m\u001b[1;33m\u001b[0m\u001b[1;33m\u001b[0m\u001b[0m\n\u001b[0m\u001b[0;32m    278\u001b[0m         \u001b[0msuper\u001b[0m\u001b[1;33m(\u001b[0m\u001b[1;33m)\u001b[0m\u001b[1;33m.\u001b[0m\u001b[0m_fit_indicator\u001b[0m\u001b[1;33m(\u001b[0m\u001b[0mX\u001b[0m\u001b[1;33m)\u001b[0m\u001b[1;33m\u001b[0m\u001b[1;33m\u001b[0m\u001b[0m\n\u001b[0;32m    279\u001b[0m \u001b[1;33m\u001b[0m\u001b[0m\n",
            "\u001b[1;32m~\\Anaconda3\\lib\\site-packages\\sklearn\\impute\\_base.py\u001b[0m in \u001b[0;36m_validate_input\u001b[1;34m(self, X, in_fit)\u001b[0m\n\u001b[0;32m    247\u001b[0m                 new_ve = ValueError(\"Cannot use {} strategy with non-numeric \"\n\u001b[0;32m    248\u001b[0m                                     \"data:\\n{}\".format(self.strategy, ve))\n\u001b[1;32m--> 249\u001b[1;33m                 \u001b[1;32mraise\u001b[0m \u001b[0mnew_ve\u001b[0m \u001b[1;32mfrom\u001b[0m \u001b[1;32mNone\u001b[0m\u001b[1;33m\u001b[0m\u001b[1;33m\u001b[0m\u001b[0m\n\u001b[0m\u001b[0;32m    250\u001b[0m             \u001b[1;32melse\u001b[0m\u001b[1;33m:\u001b[0m\u001b[1;33m\u001b[0m\u001b[1;33m\u001b[0m\u001b[0m\n\u001b[0;32m    251\u001b[0m                 \u001b[1;32mraise\u001b[0m \u001b[0mve\u001b[0m\u001b[1;33m\u001b[0m\u001b[1;33m\u001b[0m\u001b[0m\n",
            "\u001b[1;31mValueError\u001b[0m: Cannot use median strategy with non-numeric data:\ncould not convert string to float: '<1H OCEAN'"
          ]
        }
      ],
      "source": [
        "imputer.fit(housing)"
      ]
    },
    {
      "cell_type": "markdown",
      "id": "02b8c959-e55a-4cd2-83d0-3fd401bb3d9f",
      "metadata": {
        "id": "02b8c959-e55a-4cd2-83d0-3fd401bb3d9f"
      },
      "source": [
        "Yuqoridagi xatoning oldini olish uchun, sonli ustunlarni alohida ajratib olamiz:"
      ]
    },
    {
      "cell_type": "code",
      "execution_count": null,
      "id": "0f89b235-ead4-4ea0-bb38-647193af1937",
      "metadata": {
        "id": "0f89b235-ead4-4ea0-bb38-647193af1937",
        "outputId": "bff9d79e-830c-425b-f248-ae34f2e9a22a"
      },
      "outputs": [
        {
          "data": {
            "text/plain": [
              "SimpleImputer(strategy='median')"
            ]
          },
          "execution_count": 17,
          "metadata": {},
          "output_type": "execute_result"
        }
      ],
      "source": [
        "housing_num = housing.drop(\"ocean_proximity\", axis=1)\n",
        "imputer.fit(housing_num)"
      ]
    },
    {
      "cell_type": "markdown",
      "id": "f0d74a09-99d5-4908-8a64-06c00880c1f0",
      "metadata": {
        "id": "f0d74a09-99d5-4908-8a64-06c00880c1f0"
      },
      "source": [
        "Hisoblangan median qiymatlar `statistics_` atrributida saqlanadi:"
      ]
    },
    {
      "cell_type": "code",
      "execution_count": null,
      "id": "3acfd291-2f08-4b35-abe0-431e299f9e4f",
      "metadata": {
        "id": "3acfd291-2f08-4b35-abe0-431e299f9e4f",
        "outputId": "f1ffc6bd-c01f-46b6-a3cc-17ab8ce062fa"
      },
      "outputs": [
        {
          "data": {
            "text/plain": [
              "array([-118.51  ,   34.26  ,   29.    , 2119.5   ,  433.    , 1164.    ,\n",
              "        408.    ,    3.5409])"
            ]
          },
          "execution_count": 18,
          "metadata": {},
          "output_type": "execute_result"
        }
      ],
      "source": [
        "imputer.statistics_"
      ]
    },
    {
      "cell_type": "markdown",
      "id": "1f0ec59d-f4cc-4bbe-b0cf-87bf5e877d80",
      "metadata": {
        "id": "1f0ec59d-f4cc-4bbe-b0cf-87bf5e877d80"
      },
      "source": [
        "Yuqorida har bir ustun uchun median qiymatni ko'rishingiz mumkin"
      ]
    },
    {
      "cell_type": "markdown",
      "id": "678a4a87-0495-4eac-9728-63e1e0256a7d",
      "metadata": {
        "id": "678a4a87-0495-4eac-9728-63e1e0256a7d"
      },
      "source": [
        "Datasetdagi `NaN` qiymatlarni hisoblangan median qiymatlar bilan to'ldirish uchun `.transform()` funksiyasiga murojaat qilamiz:"
      ]
    },
    {
      "cell_type": "code",
      "execution_count": null,
      "id": "a8341786-22e1-47f4-90de-0fa043501720",
      "metadata": {
        "id": "a8341786-22e1-47f4-90de-0fa043501720"
      },
      "outputs": [],
      "source": [
        "X = imputer.transform(housing_num)"
      ]
    },
    {
      "cell_type": "markdown",
      "id": "61997083-400d-419c-a34c-0d3edcf5e960",
      "metadata": {
        "id": "61997083-400d-419c-a34c-0d3edcf5e960"
      },
      "source": [
        "Natijani `X` o'zgaruvchiga saqladik."
      ]
    },
    {
      "cell_type": "code",
      "execution_count": null,
      "id": "4612495d-e3b3-4c5f-9ae0-2ba6669b9e06",
      "metadata": {
        "id": "4612495d-e3b3-4c5f-9ae0-2ba6669b9e06",
        "outputId": "37a37c61-9f8a-43a1-9942-a5db244ab91e"
      },
      "outputs": [
        {
          "data": {
            "text/plain": [
              "numpy.ndarray"
            ]
          },
          "execution_count": 20,
          "metadata": {},
          "output_type": "execute_result"
        }
      ],
      "source": [
        "type(X)"
      ]
    },
    {
      "cell_type": "markdown",
      "id": "3c0ed5ee-30db-4448-9086-b8472042f388",
      "metadata": {
        "id": "3c0ed5ee-30db-4448-9086-b8472042f388"
      },
      "source": [
        " `.transform()` funksiyasi numpy array qaytaradi. Arrayni qaytarib dataframega o'tkazamiz:"
      ]
    },
    {
      "cell_type": "code",
      "execution_count": null,
      "id": "dbc621fe-d273-4f9e-8e94-3b22db6d98e6",
      "metadata": {
        "id": "dbc621fe-d273-4f9e-8e94-3b22db6d98e6"
      },
      "outputs": [],
      "source": [
        "housing_tr = pd.DataFrame(X, columns=housing_num.columns, index=housing_num.index)"
      ]
    },
    {
      "cell_type": "code",
      "execution_count": null,
      "id": "73c0b6f2-eb64-445f-bf18-e7f0c16e347b",
      "metadata": {
        "id": "73c0b6f2-eb64-445f-bf18-e7f0c16e347b",
        "outputId": "fc75effb-58b8-4899-a34b-4c5b8a2ce80c"
      },
      "outputs": [
        {
          "data": {
            "text/html": [
              "<div>\n",
              "<style scoped>\n",
              "    .dataframe tbody tr th:only-of-type {\n",
              "        vertical-align: middle;\n",
              "    }\n",
              "\n",
              "    .dataframe tbody tr th {\n",
              "        vertical-align: top;\n",
              "    }\n",
              "\n",
              "    .dataframe thead th {\n",
              "        text-align: right;\n",
              "    }\n",
              "</style>\n",
              "<table border=\"1\" class=\"dataframe\">\n",
              "  <thead>\n",
              "    <tr style=\"text-align: right;\">\n",
              "      <th></th>\n",
              "      <th>longitude</th>\n",
              "      <th>latitude</th>\n",
              "      <th>housing_median_age</th>\n",
              "      <th>total_rooms</th>\n",
              "      <th>total_bedrooms</th>\n",
              "      <th>population</th>\n",
              "      <th>households</th>\n",
              "      <th>median_income</th>\n",
              "    </tr>\n",
              "  </thead>\n",
              "  <tbody>\n",
              "    <tr>\n",
              "      <th>17606</th>\n",
              "      <td>-121.89</td>\n",
              "      <td>37.29</td>\n",
              "      <td>38.0</td>\n",
              "      <td>1568.0</td>\n",
              "      <td>351.0</td>\n",
              "      <td>710.0</td>\n",
              "      <td>339.0</td>\n",
              "      <td>2.7042</td>\n",
              "    </tr>\n",
              "    <tr>\n",
              "      <th>18632</th>\n",
              "      <td>-121.93</td>\n",
              "      <td>37.05</td>\n",
              "      <td>14.0</td>\n",
              "      <td>679.0</td>\n",
              "      <td>108.0</td>\n",
              "      <td>306.0</td>\n",
              "      <td>113.0</td>\n",
              "      <td>6.4214</td>\n",
              "    </tr>\n",
              "    <tr>\n",
              "      <th>14650</th>\n",
              "      <td>-117.20</td>\n",
              "      <td>32.77</td>\n",
              "      <td>31.0</td>\n",
              "      <td>1952.0</td>\n",
              "      <td>471.0</td>\n",
              "      <td>936.0</td>\n",
              "      <td>462.0</td>\n",
              "      <td>2.8621</td>\n",
              "    </tr>\n",
              "    <tr>\n",
              "      <th>3230</th>\n",
              "      <td>-119.61</td>\n",
              "      <td>36.31</td>\n",
              "      <td>25.0</td>\n",
              "      <td>1847.0</td>\n",
              "      <td>371.0</td>\n",
              "      <td>1460.0</td>\n",
              "      <td>353.0</td>\n",
              "      <td>1.8839</td>\n",
              "    </tr>\n",
              "    <tr>\n",
              "      <th>3555</th>\n",
              "      <td>-118.59</td>\n",
              "      <td>34.23</td>\n",
              "      <td>17.0</td>\n",
              "      <td>6592.0</td>\n",
              "      <td>1525.0</td>\n",
              "      <td>4459.0</td>\n",
              "      <td>1463.0</td>\n",
              "      <td>3.0347</td>\n",
              "    </tr>\n",
              "  </tbody>\n",
              "</table>\n",
              "</div>"
            ],
            "text/plain": [
              "       longitude  latitude  housing_median_age  total_rooms  total_bedrooms  \\\n",
              "17606    -121.89     37.29                38.0       1568.0           351.0   \n",
              "18632    -121.93     37.05                14.0        679.0           108.0   \n",
              "14650    -117.20     32.77                31.0       1952.0           471.0   \n",
              "3230     -119.61     36.31                25.0       1847.0           371.0   \n",
              "3555     -118.59     34.23                17.0       6592.0          1525.0   \n",
              "\n",
              "       population  households  median_income  \n",
              "17606       710.0       339.0         2.7042  \n",
              "18632       306.0       113.0         6.4214  \n",
              "14650       936.0       462.0         2.8621  \n",
              "3230       1460.0       353.0         1.8839  \n",
              "3555       4459.0      1463.0         3.0347  "
            ]
          },
          "execution_count": 22,
          "metadata": {},
          "output_type": "execute_result"
        }
      ],
      "source": [
        "housing_tr.head()"
      ]
    },
    {
      "cell_type": "markdown",
      "id": "ba1499c7-89fc-49ee-8f4c-ddbe2bab0dad",
      "metadata": {
        "id": "ba1499c7-89fc-49ee-8f4c-ddbe2bab0dad"
      },
      "source": [
        "### 3.2 Matnli ustunlarni shakl almashtirish\n",
        "Datasetimizning `ocean_proximity` ustuni matnli ustun. Keling boshlanishga bu ustunni ajratib olamiz."
      ]
    },
    {
      "cell_type": "code",
      "execution_count": null,
      "id": "87b87c29-e175-4a97-9129-1768b7be46ff",
      "metadata": {
        "id": "87b87c29-e175-4a97-9129-1768b7be46ff"
      },
      "outputs": [],
      "source": [
        "housing_cat = housing[['ocean_proximity']]"
      ]
    },
    {
      "cell_type": "code",
      "execution_count": null,
      "id": "1d0054fe-2ce6-4b7d-8475-9633b6b54b8c",
      "metadata": {
        "id": "1d0054fe-2ce6-4b7d-8475-9633b6b54b8c",
        "outputId": "55e20346-3077-4822-b8f8-dd596add55e2"
      },
      "outputs": [
        {
          "data": {
            "text/plain": [
              "17606     <1H OCEAN\n",
              "18632     <1H OCEAN\n",
              "14650    NEAR OCEAN\n",
              "3230         INLAND\n",
              "3555      <1H OCEAN\n",
              "19480        INLAND\n",
              "8879      <1H OCEAN\n",
              "13685        INLAND\n",
              "4937      <1H OCEAN\n",
              "4861      <1H OCEAN\n",
              "Name: ocean_proximity, dtype: object"
            ]
          },
          "execution_count": 38,
          "metadata": {},
          "output_type": "execute_result"
        }
      ],
      "source": [
        "housing_cat[\"ocean_proximity\"].head(10)"
      ]
    },
    {
      "cell_type": "markdown",
      "id": "9513a166-7636-43d8-886c-352d819e2c8a",
      "metadata": {
        "id": "9513a166-7636-43d8-886c-352d819e2c8a"
      },
      "source": [
        " ML algoritmlar sonlar bilan ishlaydi. Shuning uchun bu ustunni ham sonlarga o'zgartirishimiz kerak."
      ]
    },
    {
      "cell_type": "markdown",
      "id": "44ee8322-25cc-4f2f-af36-c3814d4c1d06",
      "metadata": {
        "id": "44ee8322-25cc-4f2f-af36-c3814d4c1d06"
      },
      "source": [
        "Buning 2 usuli bor:\n",
        "1. Har bir matnni son bilan almashtirish.\n",
        "\n",
        "Buning uchun sklearn tarkibida `OrdinalEncoder`dan foydalanamiz:"
      ]
    },
    {
      "cell_type": "code",
      "execution_count": null,
      "id": "44061f4f-a761-479b-a0d5-c34b5178ab1e",
      "metadata": {
        "id": "44061f4f-a761-479b-a0d5-c34b5178ab1e",
        "outputId": "c7169ca5-4319-4b9c-9010-57e2e0671534"
      },
      "outputs": [
        {
          "data": {
            "text/plain": [
              "array([[0.],\n",
              "       [0.],\n",
              "       [4.],\n",
              "       [1.],\n",
              "       [0.],\n",
              "       [1.],\n",
              "       [0.],\n",
              "       [1.],\n",
              "       [0.],\n",
              "       [0.]])"
            ]
          },
          "execution_count": 32,
          "metadata": {},
          "output_type": "execute_result"
        }
      ],
      "source": [
        "from sklearn.preprocessing import OrdinalEncoder\n",
        "ordinal_encoder = OrdinalEncoder()\n",
        "housing_cat_encoded = ordinal_encoder.fit_transform(housing_cat)\n",
        "housing_cat_encoded[:10]"
      ]
    },
    {
      "cell_type": "markdown",
      "id": "106e45fc-ba7d-4bfa-962b-88f825dc234b",
      "metadata": {
        "id": "106e45fc-ba7d-4bfa-962b-88f825dc234b"
      },
      "source": [
        "Ko'rib turganingizdek, matnlar sonlar bilan almashdi. Bu usul juda qulay lekin o'ziga yarasha kamchilig bor. Gap shundaki ML algoritm ikki yaqin songa mos keluvchi qatorlar bir-biriga yaqin deb qabul qiladi. Agar bu haqiqatdan shunday bo'lsa, model to'g'ri ishlaydi, lekin bu narsa haqiqatga to'g'ri kelmasa kelajakda model ishlashida noaniqlik baland bo'ladi."
      ]
    },
    {
      "cell_type": "code",
      "execution_count": null,
      "id": "3033ba8b-20b5-46f5-95fd-f7b2c73bdda0",
      "metadata": {
        "id": "3033ba8b-20b5-46f5-95fd-f7b2c73bdda0",
        "outputId": "915c7d17-23f6-4435-e5d2-4a69a073a943"
      },
      "outputs": [
        {
          "data": {
            "text/plain": [
              "[array(['<1H OCEAN', 'INLAND', 'ISLAND', 'NEAR BAY', 'NEAR OCEAN'],\n",
              "       dtype=object)]"
            ]
          },
          "execution_count": 37,
          "metadata": {},
          "output_type": "execute_result"
        }
      ],
      "source": [
        "ordinal_encoder.categories_"
      ]
    },
    {
      "cell_type": "markdown",
      "id": "159459da-4bd3-4962-99b0-92a410dfe98f",
      "metadata": {
        "id": "159459da-4bd3-4962-99b0-92a410dfe98f"
      },
      "source": [
        "Bizda, ahamiyat bersangiz qo'shni qiymatlar (matnlar) bir-biriga yaqin emas. `<1H OCEAN` va `INLAND` ga `0.0` va `1.0` qiymatlari berilgan, vaholanki, mantiqan o'ylansa bu ikkisi bir-biridan uzoq. `NEAR BAY`, `NEAR OCEAN` qiymatlari esa aksincha, `<1H OCEAN`dan uzoqlashib ketgan."
      ]
    },
    {
      "cell_type": "markdown",
      "id": "7a7bd24e-546b-4d4e-9a9c-06432123a92c",
      "metadata": {
        "id": "7a7bd24e-546b-4d4e-9a9c-06432123a92c"
      },
      "source": [
        "2. `OneHotEncoder` - usuli yordamida har bir noyob qiymat alohida ustunga aylanadi va mos keluvchi ustunga 1, qolganlariga 0 qo'yiladi. Tushunarli bo'lishi uchun keyingi kodga ahamiyat bering."
      ]
    },
    {
      "cell_type": "code",
      "execution_count": null,
      "id": "f3715b75-51c5-42a5-91c8-4d1456c5740c",
      "metadata": {
        "id": "f3715b75-51c5-42a5-91c8-4d1456c5740c",
        "outputId": "2ff8c8d9-4dd0-4732-fafd-2a04af44d152"
      },
      "outputs": [
        {
          "data": {
            "text/plain": [
              "array([[1., 0., 0., 0., 0.],\n",
              "       [1., 0., 0., 0., 0.],\n",
              "       [0., 0., 0., 0., 1.],\n",
              "       ...,\n",
              "       [0., 1., 0., 0., 0.],\n",
              "       [1., 0., 0., 0., 0.],\n",
              "       [0., 0., 0., 1., 0.]])"
            ]
          },
          "execution_count": 39,
          "metadata": {},
          "output_type": "execute_result"
        }
      ],
      "source": [
        "from sklearn.preprocessing import OneHotEncoder\n",
        "cat_encoder = OneHotEncoder()\n",
        "housing_cat_1hot = cat_encoder.fit_transform(housing_cat)\n",
        "housing_cat_1hot.toarray()"
      ]
    },
    {
      "cell_type": "markdown",
      "id": "9b095e5d-5bf8-4a74-bb6f-51d5ff8f1804",
      "metadata": {
        "id": "9b095e5d-5bf8-4a74-bb6f-51d5ff8f1804"
      },
      "source": [
        "Yuqorida nima bo'ldi, bizda 5 ta kategoriya bor edi ('<1H OCEAN', 'INLAND', 'ISLAND', 'NEAR BAY', 'NEAR OCEAN').\n",
        "\n",
        "OneHotEncoder 5 ta ustundan iborat yangi matrisa yaratdi. Har bir ustun yuqoridagi bitta kategoriyaga mos keladi: 1-ustun:'<1H OCEAN', 2-ustun:'INLAND' va hokazo.\n",
        "Endi, har bir qatordagi matnning qiymatiga qarab mos keluvchi ustunga 1 qo'yiladi (qolgani 0 bo'ladi).\n",
        "\n",
        "Masalan, `housing_cat` dataset 1-qatorini ko'rsak, `<1H OCEAN` qiymati turibdi, demak matrisaning 1-ustuni `1` qolganlari `0` bo'ladi. Buni yuoqridagi katakda ko'rishimiz mumkin."
      ]
    },
    {
      "cell_type": "code",
      "execution_count": null,
      "id": "6c1a8b3f-2acc-40fe-aec6-1519d62a2af7",
      "metadata": {
        "id": "6c1a8b3f-2acc-40fe-aec6-1519d62a2af7",
        "outputId": "d3b542f8-3cb5-43e4-e24c-e22b7d7e11fd"
      },
      "outputs": [
        {
          "data": {
            "text/html": [
              "<div>\n",
              "<style scoped>\n",
              "    .dataframe tbody tr th:only-of-type {\n",
              "        vertical-align: middle;\n",
              "    }\n",
              "\n",
              "    .dataframe tbody tr th {\n",
              "        vertical-align: top;\n",
              "    }\n",
              "\n",
              "    .dataframe thead th {\n",
              "        text-align: right;\n",
              "    }\n",
              "</style>\n",
              "<table border=\"1\" class=\"dataframe\">\n",
              "  <thead>\n",
              "    <tr style=\"text-align: right;\">\n",
              "      <th></th>\n",
              "      <th>ocean_proximity</th>\n",
              "    </tr>\n",
              "  </thead>\n",
              "  <tbody>\n",
              "    <tr>\n",
              "      <th>17606</th>\n",
              "      <td>&lt;1H OCEAN</td>\n",
              "    </tr>\n",
              "    <tr>\n",
              "      <th>18632</th>\n",
              "      <td>&lt;1H OCEAN</td>\n",
              "    </tr>\n",
              "    <tr>\n",
              "      <th>14650</th>\n",
              "      <td>NEAR OCEAN</td>\n",
              "    </tr>\n",
              "    <tr>\n",
              "      <th>3230</th>\n",
              "      <td>INLAND</td>\n",
              "    </tr>\n",
              "    <tr>\n",
              "      <th>3555</th>\n",
              "      <td>&lt;1H OCEAN</td>\n",
              "    </tr>\n",
              "    <tr>\n",
              "      <th>19480</th>\n",
              "      <td>INLAND</td>\n",
              "    </tr>\n",
              "    <tr>\n",
              "      <th>8879</th>\n",
              "      <td>&lt;1H OCEAN</td>\n",
              "    </tr>\n",
              "    <tr>\n",
              "      <th>13685</th>\n",
              "      <td>INLAND</td>\n",
              "    </tr>\n",
              "    <tr>\n",
              "      <th>4937</th>\n",
              "      <td>&lt;1H OCEAN</td>\n",
              "    </tr>\n",
              "    <tr>\n",
              "      <th>4861</th>\n",
              "      <td>&lt;1H OCEAN</td>\n",
              "    </tr>\n",
              "  </tbody>\n",
              "</table>\n",
              "</div>"
            ],
            "text/plain": [
              "      ocean_proximity\n",
              "17606       <1H OCEAN\n",
              "18632       <1H OCEAN\n",
              "14650      NEAR OCEAN\n",
              "3230           INLAND\n",
              "3555        <1H OCEAN\n",
              "19480          INLAND\n",
              "8879        <1H OCEAN\n",
              "13685          INLAND\n",
              "4937        <1H OCEAN\n",
              "4861        <1H OCEAN"
            ]
          },
          "execution_count": 41,
          "metadata": {},
          "output_type": "execute_result"
        }
      ],
      "source": [
        "housing_cat.head(10)"
      ]
    },
    {
      "cell_type": "markdown",
      "id": "0ac0b6e7-6ad9-42e1-99c7-719c634262cd",
      "metadata": {
        "id": "0ac0b6e7-6ad9-42e1-99c7-719c634262cd"
      },
      "source": [
        "Birinchi yoki ikkinchi usuldan qayerda foydalanish sizga havola. Agar matnli qiymatlarning turi judayam ko'p bo'lsa 2-usul datasetning kattalshib ketishiga sabab bo'ladi. Yuqorida, bizda 5 ta kategoriya bo'lgani uchun, datasetga yana 5 ta ustun qo'shishimiz kerak, bizda 16512 qator borligini hisobga olsak bu 82560 ta qo'shimcha qiymat degani.\n",
        "\n",
        "Demak kategoriyalar soni oshgan sari, ishlov berish kerak bo'lgan ustunlar ham oshib ketadi bu esa ortiqcha resurs ishlatilishiga va qo'shimcha moliyaviy harajatlarga olib keladi."
      ]
    },
    {
      "cell_type": "markdown",
      "id": "f7519050-cfe0-44b6-ac40-2352890690aa",
      "metadata": {
        "id": "f7519050-cfe0-44b6-ac40-2352890690aa"
      },
      "source": [
        "### 3.3 Transfomer\n",
        "\n",
        "Yuqorida ma'lumotlarg ishlov berishda biz `sklearn` tarkibidagi tayyor obyektlar va ulardagi `.fit()` yoki `.fit_transform()` funksiyalariga murojaat qildik.\n",
        "Bu funksiyalar (`imputer`, `OneHotEncoder` va hokazo) **transformer**lar deb ataladi.\n",
        "\n",
        "Umuman olganda `sklearn` tarkibidagi obyektlar uch turli bo'ladi:\n",
        "1. **Estimator** - tahmin qiluvchi (baholovchi) funksiyalar. Bunday obyektlar `.fit()` metodiga ega bo'ladi, bu metod berilgan ma'lumotlardan qandaydur qiymatni hisoblaydi (masalan, avvalroq biz `imputer.fit()` yordamida median qiymatni hisobladik)\n",
        "2. **Transformer** - ham tahmin qilib ham ma'lumotga ishlov beruvchi obyekt. Bunday obyektlar `.fit_transform()` metodiga ega bo'ladi, ya'ni avval qandaydur qiymatnbi hisoblaydi, keyin esa hisoblashni ma'lumotlarga qo'llaydi. Yuoqirdagi `OrdinalEncoder` va `OneHotEncoder` shunday obyektlardan.\n",
        "3. **Predictor** - bashorat qiluvchi obyektlar. Bunday obyektlar `.predict()` metodiga ega bo'ladi. Ular biz bergan ma'lumotlar asosida bashoratlar qaytaradi. Dars davomida predictor obyektlar bilan ko'p ishlaymiz.\n",
        "\n",
        "Obyektlarning afzalligi, ular hisob kitob natijalarini ichki attributrlarda saqlab qoladi. Masalan, yuqorida ko'rganimiz `imputer.statistics_`.\n",
        "\n",
        "Keling endi o'zimiz ham transformer yozishni o'rganamiz.\n",
        "\n",
        "Esingizda bo'lsa, avvalgi darsimizda biz ma'lumotlarg yangi 2 ustun qo'shdik: `rooms_per_household` va `bedrooms_per_room`.\n",
        "\n",
        "Keling berilgan ma'lumotlarga shu ikki ustunni avtomat ravishda qo'shadigan transformer yasaymiz.\n",
        "\n",
        "Buning uchun `sklearn` tarkibida `BaseEstimator` va `TransformerMixin` klasslaridan meros olib yangi klass yasaymiz va bu klassimizga kabi `fit()` va `transform()` metodlarini qo'shamiz:"
      ]
    },
    {
      "cell_type": "code",
      "execution_count": null,
      "id": "c8e30ed5-3080-496e-9797-44e802aad84f",
      "metadata": {
        "id": "c8e30ed5-3080-496e-9797-44e802aad84f"
      },
      "outputs": [],
      "source": [
        "from sklearn.base import BaseEstimator, TransformerMixin\n",
        "\n",
        "# bizga kerak ustunlar indekslari\n",
        "rooms_ix, bedrooms_ix, population_ix, households_ix = 3, 4, 5, 6\n",
        "\n",
        "class CombinedAttributesAdder(BaseEstimator, TransformerMixin):\n",
        "    def __init__(self, add_bedrooms_per_room = True):\n",
        "        self.add_bedrooms_per_room = add_bedrooms_per_room\n",
        "    def fit(self, X, y=None):\n",
        "        return self # bizni funksiyamiz faqat transformer. estimator emas\n",
        "    def transform(self, X):\n",
        "        rooms_per_household = X[:, rooms_ix] / X[:, households_ix]\n",
        "        population_per_household = X[:, population_ix] / X[:, households_ix]\n",
        "        if self.add_bedrooms_per_room: # add_bedrooms_per_room ustuni ixtiyoriy bo'ladi\n",
        "            bedrooms_per_room = X[:, bedrooms_ix] / X[:, rooms_ix]\n",
        "            return np.c_[X, rooms_per_household, population_per_household, bedrooms_per_room]\n",
        "        else:\n",
        "            return np.c_[X, rooms_per_household, population_per_household]"
      ]
    },
    {
      "cell_type": "code",
      "execution_count": null,
      "id": "77515319-b804-4d02-9d6e-b3052440f42c",
      "metadata": {
        "id": "77515319-b804-4d02-9d6e-b3052440f42c",
        "outputId": "f02b7faf-b40d-480f-96ad-7ace657024eb"
      },
      "outputs": [
        {
          "data": {
            "text/plain": [
              "array([-121.89, 37.29, 38.0, 1568.0, 351.0, 710.0, 339.0, 2.7042,\n",
              "       '<1H OCEAN', 4.625368731563422, 2.094395280235988,\n",
              "       0.22385204081632654], dtype=object)"
            ]
          },
          "execution_count": 54,
          "metadata": {},
          "output_type": "execute_result"
        }
      ],
      "source": [
        "attr_adder = CombinedAttributesAdder(add_bedrooms_per_room=True)\n",
        "housing_extra_attribs = attr_adder.transform(housing.values)\n",
        "housing_extra_attribs[0,:]"
      ]
    },
    {
      "cell_type": "code",
      "execution_count": null,
      "id": "7836dd62-a635-400f-a1e6-77077629dea1",
      "metadata": {
        "id": "7836dd62-a635-400f-a1e6-77077629dea1",
        "outputId": "11c93802-266f-45e2-df11-fae9095ece56"
      },
      "outputs": [
        {
          "data": {
            "text/plain": [
              "array([-121.89, 37.29, 38.0, 1568.0, 351.0, 710.0, 339.0, 2.7042,\n",
              "       '<1H OCEAN', 4.625368731563422, 2.094395280235988], dtype=object)"
            ]
          },
          "execution_count": 56,
          "metadata": {},
          "output_type": "execute_result"
        }
      ],
      "source": [
        "attr_adder = CombinedAttributesAdder(add_bedrooms_per_room=False)\n",
        "housing_extra_attribs = attr_adder.transform(housing.values)\n",
        "housing_extra_attribs[0,:]"
      ]
    },
    {
      "cell_type": "markdown",
      "id": "c05794ff-c123-46d0-ad9f-0ba073147b12",
      "metadata": {
        "id": "c05794ff-c123-46d0-ad9f-0ba073147b12"
      },
      "source": [
        "### 3.4 Standartizasiya va normalizasiya\n",
        "\n",
        "Ahamiyat bersangiz, bizdagi ustunlardagi qiymatlar diapazoni turlicha, masalan:\n",
        "- `housing_median_age` - `0-50` oralig'ida\n",
        "- `total_rooms` esa `6-39000` oralig'ida\n",
        "- `median_income` - `0.5-15` oralig'ida\n",
        "\n",
        "Bularning hammasi kelgusi hisob kitoblarda algoritmlarning to'gri ishlashiga ta'sir ko'rsatadi.\n",
        "\n",
        "Buning oldini olish uchun barcha ustundagi qiymatlarni bir diapazonga keltirib olish tavsiya qilinadi.\n",
        "\n",
        "Buning uchun ML da min-max normallashtirish (_min-max scaling_) yoki standartlash (_standartization_) qo'llaniladi."
      ]
    },
    {
      "cell_type": "markdown",
      "id": "6eb988a4-49c3-4a8d-b454-36c1a4141e4c",
      "metadata": {
        "id": "6eb988a4-49c3-4a8d-b454-36c1a4141e4c"
      },
      "source": [
        "#### 3.4.1 Min-max scaling\n",
        "\n",
        "Min-max scaling berilgan qiymatlarni 0-1 oralig'iga olib keladi.\n",
        "\n",
        "Buning uchun biror ustundagi barcha qiymatlarning min ($x_{min}$) va max ($x_{max}$) qiymatlari topiladi. Keyin esa ustundagi har bir qiymat ($x$) quyidagi formula asosida hisoblab chiqiladi:\n",
        "\n",
        "![](https://arshpreetsingh.files.wordpress.com/2017/03/normal.png)"
      ]
    },
    {
      "cell_type": "markdown",
      "id": "c1ee4c36-46e4-474f-8d08-d84c5f441f8f",
      "metadata": {
        "id": "c1ee4c36-46e4-474f-8d08-d84c5f441f8f"
      },
      "source": [
        "Yuqoridagi vazifani bajarish uchun `sklearn` tarkibida maxsus `MinMaxScaler` obyekti bor. Keling, min-max scalingni bizdagi ma'lumotlarga qo'llab ko'ramiz:"
      ]
    },
    {
      "cell_type": "code",
      "execution_count": null,
      "id": "7e5d55d6-9711-474a-8f45-52da48f0d6b9",
      "metadata": {
        "id": "7e5d55d6-9711-474a-8f45-52da48f0d6b9",
        "outputId": "be42a086-0f88-49e1-d47b-e57044802447"
      },
      "outputs": [
        {
          "data": {
            "text/plain": [
              "array([[0.24501992, 0.50478215, 0.7254902 , ..., 0.01981558, 0.06292009,\n",
              "        0.15201859],\n",
              "       [0.24103586, 0.47927736, 0.25490196, ..., 0.00849239, 0.02072442,\n",
              "        0.40837368],\n",
              "       [0.71215139, 0.02444208, 0.58823529, ..., 0.02614984, 0.08588499,\n",
              "        0.1629081 ],\n",
              "       ...,\n",
              "       [0.79183267, 0.16471838, 0.15686275, ..., 0.05871801, 0.14245706,\n",
              "        0.19119736],\n",
              "       [0.6314741 , 0.1360255 , 0.58823529, ..., 0.03792147, 0.0660941 ,\n",
              "        0.24569316],\n",
              "       [0.18924303, 0.55579171, 1.        , ..., 0.03548306, 0.11893204,\n",
              "        0.21207294]])"
            ]
          },
          "execution_count": 69,
          "metadata": {},
          "output_type": "execute_result"
        }
      ],
      "source": [
        "from sklearn.preprocessing import MinMaxScaler\n",
        "min_mix_scaler = MinMaxScaler()\n",
        "\n",
        "min_mix_scaler.fit_transform(housing_num)"
      ]
    },
    {
      "cell_type": "markdown",
      "id": "a4ae375c-44e1-4664-8be2-adb323cd3bb5",
      "metadata": {
        "id": "a4ae375c-44e1-4664-8be2-adb323cd3bb5"
      },
      "source": [
        "Ko'rib turganingizdek, sonlar 0-1 oralig'iga keldi."
      ]
    },
    {
      "cell_type": "markdown",
      "id": "8f567e83-07da-41d1-933a-e028a7cacf8e",
      "metadata": {
        "id": "8f567e83-07da-41d1-933a-e028a7cacf8e"
      },
      "source": [
        "#### 3.4.2 Standard Scaler - standartlash\n",
        "StandardScaler biroz boshqa usulda ishlaydi. Sonlarni standartlas hcuhn bizga berilgan ustun bo'yicha o'rta qiymat ($\\mu$) va standart cheklanish ($\\sigma$) talab qilinadi. Har bir qatordag qiymat esa quydagicha hisoblanadi\n",
        "\n",
        "![](https://encrypted-tbn0.gstatic.com/images?q=tbn:ANd9GcQxeMnm1BSa8qyNkCB6wqiYa790XtNxCdM48k_be-9zESUvivv_nuY6SXk8fpJK_psGiA&usqp=CAU)"
      ]
    },
    {
      "cell_type": "code",
      "execution_count": null,
      "id": "5640ae18-a1c2-4a5a-b6f8-44e3819036df",
      "metadata": {
        "id": "5640ae18-a1c2-4a5a-b6f8-44e3819036df",
        "outputId": "73bb6207-26d2-4af2-9b25-bf9d70d0d4d8"
      },
      "outputs": [
        {
          "data": {
            "text/plain": [
              "array([[-1.15604281,  0.77194962,  0.74333089, ..., -0.63621141,\n",
              "        -0.42069842, -0.61493744],\n",
              "       [-1.17602483,  0.6596948 , -1.1653172 , ..., -0.99833135,\n",
              "        -1.02222705,  1.33645936],\n",
              "       [ 1.18684903, -1.34218285,  0.18664186, ..., -0.43363936,\n",
              "        -0.0933178 , -0.5320456 ],\n",
              "       ...,\n",
              "       [ 1.58648943, -0.72478134, -1.56295222, ...,  0.60790363,\n",
              "         0.71315642, -0.3167053 ],\n",
              "       [ 0.78221312, -0.85106801,  0.18664186, ..., -0.05717804,\n",
              "        -0.37545069,  0.09812139],\n",
              "       [-1.43579109,  0.99645926,  1.85670895, ..., -0.13515931,\n",
              "         0.3777909 , -0.15779865]])"
            ]
          },
          "execution_count": 70,
          "metadata": {},
          "output_type": "execute_result"
        }
      ],
      "source": [
        "from sklearn.preprocessing import StandardScaler\n",
        "standart_scaler = StandardScaler()\n",
        "standart_scaler.fit_transform(housing_num)"
      ]
    },
    {
      "cell_type": "code",
      "execution_count": null,
      "id": "699ed223-c678-436c-b566-d3f3224aa043",
      "metadata": {
        "id": "699ed223-c678-436c-b566-d3f3224aa043",
        "outputId": "e1ea9d16-1fd6-40e2-bcb3-b55b5f4bf03e"
      },
      "outputs": [
        {
          "data": {
            "text/html": [
              "<div>\n",
              "<style scoped>\n",
              "    .dataframe tbody tr th:only-of-type {\n",
              "        vertical-align: middle;\n",
              "    }\n",
              "\n",
              "    .dataframe tbody tr th {\n",
              "        vertical-align: top;\n",
              "    }\n",
              "\n",
              "    .dataframe thead th {\n",
              "        text-align: right;\n",
              "    }\n",
              "</style>\n",
              "<table border=\"1\" class=\"dataframe\">\n",
              "  <thead>\n",
              "    <tr style=\"text-align: right;\">\n",
              "      <th></th>\n",
              "      <th>longitude</th>\n",
              "      <th>latitude</th>\n",
              "      <th>housing_median_age</th>\n",
              "      <th>total_rooms</th>\n",
              "      <th>total_bedrooms</th>\n",
              "      <th>population</th>\n",
              "      <th>households</th>\n",
              "      <th>median_income</th>\n",
              "      <th>ocean_proximity</th>\n",
              "    </tr>\n",
              "  </thead>\n",
              "  <tbody>\n",
              "    <tr>\n",
              "      <th>17606</th>\n",
              "      <td>-121.89</td>\n",
              "      <td>37.29</td>\n",
              "      <td>38.0</td>\n",
              "      <td>1568.0</td>\n",
              "      <td>351.0</td>\n",
              "      <td>710.0</td>\n",
              "      <td>339.0</td>\n",
              "      <td>2.7042</td>\n",
              "      <td>&lt;1H OCEAN</td>\n",
              "    </tr>\n",
              "    <tr>\n",
              "      <th>18632</th>\n",
              "      <td>-121.93</td>\n",
              "      <td>37.05</td>\n",
              "      <td>14.0</td>\n",
              "      <td>679.0</td>\n",
              "      <td>108.0</td>\n",
              "      <td>306.0</td>\n",
              "      <td>113.0</td>\n",
              "      <td>6.4214</td>\n",
              "      <td>&lt;1H OCEAN</td>\n",
              "    </tr>\n",
              "    <tr>\n",
              "      <th>14650</th>\n",
              "      <td>-117.20</td>\n",
              "      <td>32.77</td>\n",
              "      <td>31.0</td>\n",
              "      <td>1952.0</td>\n",
              "      <td>471.0</td>\n",
              "      <td>936.0</td>\n",
              "      <td>462.0</td>\n",
              "      <td>2.8621</td>\n",
              "      <td>NEAR OCEAN</td>\n",
              "    </tr>\n",
              "    <tr>\n",
              "      <th>3230</th>\n",
              "      <td>-119.61</td>\n",
              "      <td>36.31</td>\n",
              "      <td>25.0</td>\n",
              "      <td>1847.0</td>\n",
              "      <td>371.0</td>\n",
              "      <td>1460.0</td>\n",
              "      <td>353.0</td>\n",
              "      <td>1.8839</td>\n",
              "      <td>INLAND</td>\n",
              "    </tr>\n",
              "    <tr>\n",
              "      <th>3555</th>\n",
              "      <td>-118.59</td>\n",
              "      <td>34.23</td>\n",
              "      <td>17.0</td>\n",
              "      <td>6592.0</td>\n",
              "      <td>1525.0</td>\n",
              "      <td>4459.0</td>\n",
              "      <td>1463.0</td>\n",
              "      <td>3.0347</td>\n",
              "      <td>&lt;1H OCEAN</td>\n",
              "    </tr>\n",
              "  </tbody>\n",
              "</table>\n",
              "</div>"
            ],
            "text/plain": [
              "       longitude  latitude  housing_median_age  total_rooms  total_bedrooms  \\\n",
              "17606    -121.89     37.29                38.0       1568.0           351.0   \n",
              "18632    -121.93     37.05                14.0        679.0           108.0   \n",
              "14650    -117.20     32.77                31.0       1952.0           471.0   \n",
              "3230     -119.61     36.31                25.0       1847.0           371.0   \n",
              "3555     -118.59     34.23                17.0       6592.0          1525.0   \n",
              "\n",
              "       population  households  median_income ocean_proximity  \n",
              "17606       710.0       339.0         2.7042       <1H OCEAN  \n",
              "18632       306.0       113.0         6.4214       <1H OCEAN  \n",
              "14650       936.0       462.0         2.8621      NEAR OCEAN  \n",
              "3230       1460.0       353.0         1.8839          INLAND  \n",
              "3555       4459.0      1463.0         3.0347       <1H OCEAN  "
            ]
          },
          "execution_count": 85,
          "metadata": {},
          "output_type": "execute_result"
        }
      ],
      "source": [
        "housing.head()"
      ]
    },
    {
      "cell_type": "code",
      "execution_count": null,
      "id": "eb03c234-f4d4-4b38-a6fd-d6727a8d00cf",
      "metadata": {
        "id": "eb03c234-f4d4-4b38-a6fd-d6727a8d00cf",
        "outputId": "2d4473ed-9a62-40bf-d898-2d423360bc46"
      },
      "outputs": [
        {
          "data": {
            "text/html": [
              "<div>\n",
              "<style scoped>\n",
              "    .dataframe tbody tr th:only-of-type {\n",
              "        vertical-align: middle;\n",
              "    }\n",
              "\n",
              "    .dataframe tbody tr th {\n",
              "        vertical-align: top;\n",
              "    }\n",
              "\n",
              "    .dataframe thead th {\n",
              "        text-align: right;\n",
              "    }\n",
              "</style>\n",
              "<table border=\"1\" class=\"dataframe\">\n",
              "  <thead>\n",
              "    <tr style=\"text-align: right;\">\n",
              "      <th></th>\n",
              "      <th>&lt;1H OCEAN</th>\n",
              "      <th>INLAND</th>\n",
              "      <th>ISLAND</th>\n",
              "      <th>NEAR BAY</th>\n",
              "      <th>NEAR OCEAN</th>\n",
              "    </tr>\n",
              "  </thead>\n",
              "  <tbody>\n",
              "    <tr>\n",
              "      <th>17606</th>\n",
              "      <td>1</td>\n",
              "      <td>0</td>\n",
              "      <td>0</td>\n",
              "      <td>0</td>\n",
              "      <td>0</td>\n",
              "    </tr>\n",
              "    <tr>\n",
              "      <th>18632</th>\n",
              "      <td>1</td>\n",
              "      <td>0</td>\n",
              "      <td>0</td>\n",
              "      <td>0</td>\n",
              "      <td>0</td>\n",
              "    </tr>\n",
              "    <tr>\n",
              "      <th>14650</th>\n",
              "      <td>0</td>\n",
              "      <td>0</td>\n",
              "      <td>0</td>\n",
              "      <td>0</td>\n",
              "      <td>1</td>\n",
              "    </tr>\n",
              "    <tr>\n",
              "      <th>3230</th>\n",
              "      <td>0</td>\n",
              "      <td>1</td>\n",
              "      <td>0</td>\n",
              "      <td>0</td>\n",
              "      <td>0</td>\n",
              "    </tr>\n",
              "    <tr>\n",
              "      <th>3555</th>\n",
              "      <td>1</td>\n",
              "      <td>0</td>\n",
              "      <td>0</td>\n",
              "      <td>0</td>\n",
              "      <td>0</td>\n",
              "    </tr>\n",
              "    <tr>\n",
              "      <th>...</th>\n",
              "      <td>...</td>\n",
              "      <td>...</td>\n",
              "      <td>...</td>\n",
              "      <td>...</td>\n",
              "      <td>...</td>\n",
              "    </tr>\n",
              "    <tr>\n",
              "      <th>6563</th>\n",
              "      <td>0</td>\n",
              "      <td>1</td>\n",
              "      <td>0</td>\n",
              "      <td>0</td>\n",
              "      <td>0</td>\n",
              "    </tr>\n",
              "    <tr>\n",
              "      <th>12053</th>\n",
              "      <td>0</td>\n",
              "      <td>1</td>\n",
              "      <td>0</td>\n",
              "      <td>0</td>\n",
              "      <td>0</td>\n",
              "    </tr>\n",
              "    <tr>\n",
              "      <th>13908</th>\n",
              "      <td>0</td>\n",
              "      <td>1</td>\n",
              "      <td>0</td>\n",
              "      <td>0</td>\n",
              "      <td>0</td>\n",
              "    </tr>\n",
              "    <tr>\n",
              "      <th>11159</th>\n",
              "      <td>1</td>\n",
              "      <td>0</td>\n",
              "      <td>0</td>\n",
              "      <td>0</td>\n",
              "      <td>0</td>\n",
              "    </tr>\n",
              "    <tr>\n",
              "      <th>15775</th>\n",
              "      <td>0</td>\n",
              "      <td>0</td>\n",
              "      <td>0</td>\n",
              "      <td>1</td>\n",
              "      <td>0</td>\n",
              "    </tr>\n",
              "  </tbody>\n",
              "</table>\n",
              "<p>16512 rows × 5 columns</p>\n",
              "</div>"
            ],
            "text/plain": [
              "       <1H OCEAN  INLAND  ISLAND  NEAR BAY  NEAR OCEAN\n",
              "17606          1       0       0         0           0\n",
              "18632          1       0       0         0           0\n",
              "14650          0       0       0         0           1\n",
              "3230           0       1       0         0           0\n",
              "3555           1       0       0         0           0\n",
              "...          ...     ...     ...       ...         ...\n",
              "6563           0       1       0         0           0\n",
              "12053          0       1       0         0           0\n",
              "13908          0       1       0         0           0\n",
              "11159          1       0       0         0           0\n",
              "15775          0       0       0         1           0\n",
              "\n",
              "[16512 rows x 5 columns]"
            ]
          },
          "execution_count": 86,
          "metadata": {},
          "output_type": "execute_result"
        }
      ],
      "source": [
        "housing_onehot = pd.get_dummies(housing['ocean_proximity'])\n",
        "housing_onehot"
      ]
    },
    {
      "cell_type": "code",
      "execution_count": null,
      "id": "81062af8-7e0b-4e17-9512-b871ebb4ceef",
      "metadata": {
        "id": "81062af8-7e0b-4e17-9512-b871ebb4ceef",
        "outputId": "1618efeb-733b-4305-a47a-499e4342c597"
      },
      "outputs": [
        {
          "data": {
            "text/html": [
              "<div>\n",
              "<style scoped>\n",
              "    .dataframe tbody tr th:only-of-type {\n",
              "        vertical-align: middle;\n",
              "    }\n",
              "\n",
              "    .dataframe tbody tr th {\n",
              "        vertical-align: top;\n",
              "    }\n",
              "\n",
              "    .dataframe thead th {\n",
              "        text-align: right;\n",
              "    }\n",
              "</style>\n",
              "<table border=\"1\" class=\"dataframe\">\n",
              "  <thead>\n",
              "    <tr style=\"text-align: right;\">\n",
              "      <th></th>\n",
              "      <th>longitude</th>\n",
              "      <th>latitude</th>\n",
              "      <th>housing_median_age</th>\n",
              "      <th>total_rooms</th>\n",
              "      <th>total_bedrooms</th>\n",
              "      <th>population</th>\n",
              "      <th>households</th>\n",
              "      <th>median_income</th>\n",
              "    </tr>\n",
              "  </thead>\n",
              "  <tbody>\n",
              "    <tr>\n",
              "      <th>17606</th>\n",
              "      <td>-121.89</td>\n",
              "      <td>37.29</td>\n",
              "      <td>38.0</td>\n",
              "      <td>1568.0</td>\n",
              "      <td>351.0</td>\n",
              "      <td>710.0</td>\n",
              "      <td>339.0</td>\n",
              "      <td>2.7042</td>\n",
              "    </tr>\n",
              "    <tr>\n",
              "      <th>18632</th>\n",
              "      <td>-121.93</td>\n",
              "      <td>37.05</td>\n",
              "      <td>14.0</td>\n",
              "      <td>679.0</td>\n",
              "      <td>108.0</td>\n",
              "      <td>306.0</td>\n",
              "      <td>113.0</td>\n",
              "      <td>6.4214</td>\n",
              "    </tr>\n",
              "    <tr>\n",
              "      <th>14650</th>\n",
              "      <td>-117.20</td>\n",
              "      <td>32.77</td>\n",
              "      <td>31.0</td>\n",
              "      <td>1952.0</td>\n",
              "      <td>471.0</td>\n",
              "      <td>936.0</td>\n",
              "      <td>462.0</td>\n",
              "      <td>2.8621</td>\n",
              "    </tr>\n",
              "    <tr>\n",
              "      <th>3230</th>\n",
              "      <td>-119.61</td>\n",
              "      <td>36.31</td>\n",
              "      <td>25.0</td>\n",
              "      <td>1847.0</td>\n",
              "      <td>371.0</td>\n",
              "      <td>1460.0</td>\n",
              "      <td>353.0</td>\n",
              "      <td>1.8839</td>\n",
              "    </tr>\n",
              "    <tr>\n",
              "      <th>3555</th>\n",
              "      <td>-118.59</td>\n",
              "      <td>34.23</td>\n",
              "      <td>17.0</td>\n",
              "      <td>6592.0</td>\n",
              "      <td>1525.0</td>\n",
              "      <td>4459.0</td>\n",
              "      <td>1463.0</td>\n",
              "      <td>3.0347</td>\n",
              "    </tr>\n",
              "  </tbody>\n",
              "</table>\n",
              "</div>"
            ],
            "text/plain": [
              "       longitude  latitude  housing_median_age  total_rooms  total_bedrooms  \\\n",
              "17606    -121.89     37.29                38.0       1568.0           351.0   \n",
              "18632    -121.93     37.05                14.0        679.0           108.0   \n",
              "14650    -117.20     32.77                31.0       1952.0           471.0   \n",
              "3230     -119.61     36.31                25.0       1847.0           371.0   \n",
              "3555     -118.59     34.23                17.0       6592.0          1525.0   \n",
              "\n",
              "       population  households  median_income  \n",
              "17606       710.0       339.0         2.7042  \n",
              "18632       306.0       113.0         6.4214  \n",
              "14650       936.0       462.0         2.8621  \n",
              "3230       1460.0       353.0         1.8839  \n",
              "3555       4459.0      1463.0         3.0347  "
            ]
          },
          "execution_count": 89,
          "metadata": {},
          "output_type": "execute_result"
        }
      ],
      "source": [
        "housing_num.head()"
      ]
    },
    {
      "cell_type": "code",
      "execution_count": null,
      "id": "0117b459-695e-4203-a297-cc6e7b415279",
      "metadata": {
        "id": "0117b459-695e-4203-a297-cc6e7b415279"
      },
      "outputs": [],
      "source": []
    }
  ],
  "metadata": {
    "language_info": {
      "codemirror_mode": {
        "name": "ipython",
        "version": 3
      },
      "file_extension": ".py",
      "mimetype": "text/x-python",
      "name": "python",
      "nbconvert_exporter": "python",
      "pygments_lexer": "ipython3",
      "version": "3.8.8"
    },
    "colab": {
      "provenance": [],
      "include_colab_link": true
    }
  },
  "nbformat": 4,
  "nbformat_minor": 5
}